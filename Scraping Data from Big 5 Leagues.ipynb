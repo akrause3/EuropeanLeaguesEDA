{
 "cells": [
  {
   "cell_type": "markdown",
   "metadata": {},
   "source": [
    "# **Part 1: Data Scraping**"
   ]
  },
  {
   "cell_type": "code",
   "execution_count": 1,
   "metadata": {},
   "outputs": [],
   "source": [
    "import numpy as np # numpy to create matrices for data\n",
    "from bs4 import BeautifulSoup as bs #beautifulsoup to scrape web\n",
    "import requests # download html of site\n",
    "import pandas as pd # once we finish scraping the data, we want to save it to work with later"
   ]
  },
  {
   "cell_type": "code",
   "execution_count": 2,
   "metadata": {},
   "outputs": [
    {
     "data": {
      "text/plain": [
       "array([['1', 'Ismael Aaneba', 'fr', ..., '0.00', '0.00', '0.00'],\n",
       "       ['2', 'Patrick van Aanholt', 'nl', ..., '0.11', '0.07', '0.11'],\n",
       "       ['3', 'Issah Abbas', 'gh', ..., '0.00', '0.00', '0.00'],\n",
       "       ...,\n",
       "       ['2721', 'Martin Ødegaard', 'no', ..., '0.25', '0.12', '0.25'],\n",
       "       ['2722', 'Martin Ødegaard', 'no', ..., '0.19', '0.04', '0.19'],\n",
       "       ['2723', 'Filip Đuričić', 'rs', ..., '0.55', '0.23', '0.51']],\n",
       "      dtype='<U28')"
      ]
     },
     "execution_count": 2,
     "metadata": {},
     "output_type": "execute_result"
    }
   ],
   "source": [
    "page = requests.get(\"https://fbref.com/en/comps/Big5/stats/players/Big-5-European-Leagues-Stats\")\n",
    "soup = bs(page.content)\n",
    "\n",
    "currRow = 0\n",
    "table = None\n",
    "for row in soup.findAll('table')[0].findAll('tr'): # find the data which is held in the table, and loop through the rows (which are the children)\n",
    "    if(currRow == 0): #skip the first row, as it is used to label groups of columns, which would mess up our table structure.\n",
    "        currRow+=1\n",
    "        continue\n",
    "    columns = None\n",
    "    for col in row.findChildren(): ##loop through the children of the rows, which are the columns\n",
    "        if(len(col.findChildren())>0): ## if there is another child to our column, dont add the text of this column or else it will double insert\n",
    "            continue\n",
    "        newCol = col.text\n",
    "        if(newCol == 'Rk'): ## skip the entire row if we enter a row that is used to label columns\n",
    "            break\n",
    "        if(columns is None): # if this is our first column in the row\n",
    "            columns = np.array([newCol])\n",
    "        else:\n",
    "            columns = np.append(columns,np.array([newCol]),axis=0)\n",
    "    if(table is None): ##if this is our first row in the table\n",
    "        table = columns\n",
    "    elif (columns is not None):\n",
    "        table = np.vstack((table,columns))\n",
    "    \n",
    "table = np.delete(table,[5,-1],1) ##remove emoji of league flag, and links\n",
    "table"
   ]
  },
  {
   "cell_type": "code",
   "execution_count": 4,
   "metadata": {},
   "outputs": [],
   "source": [
    "Lables = ['Name','Nation','Pos','Squad','League','Age','Born','Matches Played','Starts','Mins-Played','Full 90s', 'Goals','Assists','G-PK','PK','PK-ATT','Yellow','Red','Gls90','Ast90','G+A90','G-PK90','G+A-PK90','xG','xA','xG+xA','npxG+xA','xG90','xA90','xG+xA90','npxG90', 'npxG+xA90']\n",
    "df = pd.DataFrame(table[:,1:], columns=Lables) #remove the index as pandas already does that with dataframes\n",
    "df.to_excel(\"Big5LeaguesPlayerStats.xlsx\")"
   ]
  },
  {
   "cell_type": "markdown",
   "metadata": {},
   "source": [
    "# **Part 2: EDA**\n",
    "Now that we have the data in a workable format, we can look at it in its raw form."
   ]
  },
  {
   "cell_type": "code",
   "execution_count": 5,
   "metadata": {},
   "outputs": [
    {
     "data": {
      "text/html": [
       "<div>\n",
       "<style scoped>\n",
       "    .dataframe tbody tr th:only-of-type {\n",
       "        vertical-align: middle;\n",
       "    }\n",
       "\n",
       "    .dataframe tbody tr th {\n",
       "        vertical-align: top;\n",
       "    }\n",
       "\n",
       "    .dataframe thead th {\n",
       "        text-align: right;\n",
       "    }\n",
       "</style>\n",
       "<table border=\"1\" class=\"dataframe\">\n",
       "  <thead>\n",
       "    <tr style=\"text-align: right;\">\n",
       "      <th></th>\n",
       "      <th>Name</th>\n",
       "      <th>Nation</th>\n",
       "      <th>Pos</th>\n",
       "      <th>Squad</th>\n",
       "      <th>League</th>\n",
       "      <th>Age</th>\n",
       "      <th>Born</th>\n",
       "      <th>Matches Played</th>\n",
       "      <th>Starts</th>\n",
       "      <th>Mins-Played</th>\n",
       "      <th>...</th>\n",
       "      <th>G+A-PK90</th>\n",
       "      <th>xG</th>\n",
       "      <th>xA</th>\n",
       "      <th>xG+xA</th>\n",
       "      <th>npxG+xA</th>\n",
       "      <th>xG90</th>\n",
       "      <th>xA90</th>\n",
       "      <th>xG+xA90</th>\n",
       "      <th>npxG90</th>\n",
       "      <th>npxG+xA90</th>\n",
       "    </tr>\n",
       "  </thead>\n",
       "  <tbody>\n",
       "    <tr>\n",
       "      <th>0</th>\n",
       "      <td>Ismael Aaneba</td>\n",
       "      <td>fr</td>\n",
       "      <td>FW,DF</td>\n",
       "      <td>Strasbourg</td>\n",
       "      <td>Ligue 1</td>\n",
       "      <td>21-330</td>\n",
       "      <td>1999</td>\n",
       "      <td>2</td>\n",
       "      <td>0</td>\n",
       "      <td>11</td>\n",
       "      <td>...</td>\n",
       "      <td>0.00</td>\n",
       "      <td>0.0</td>\n",
       "      <td>0.0</td>\n",
       "      <td>0.0</td>\n",
       "      <td>0.0</td>\n",
       "      <td>0.00</td>\n",
       "      <td>0.00</td>\n",
       "      <td>0.00</td>\n",
       "      <td>0.00</td>\n",
       "      <td>0.00</td>\n",
       "    </tr>\n",
       "    <tr>\n",
       "      <th>1</th>\n",
       "      <td>Patrick van Aanholt</td>\n",
       "      <td>nl</td>\n",
       "      <td>DF</td>\n",
       "      <td>Crystal Palace</td>\n",
       "      <td>Premier League</td>\n",
       "      <td>30-238</td>\n",
       "      <td>1990</td>\n",
       "      <td>20</td>\n",
       "      <td>19</td>\n",
       "      <td>1,684</td>\n",
       "      <td>...</td>\n",
       "      <td>0.05</td>\n",
       "      <td>1.2</td>\n",
       "      <td>1.2</td>\n",
       "      <td>0.8</td>\n",
       "      <td>2.0</td>\n",
       "      <td>0.07</td>\n",
       "      <td>0.04</td>\n",
       "      <td>0.11</td>\n",
       "      <td>0.07</td>\n",
       "      <td>0.11</td>\n",
       "    </tr>\n",
       "    <tr>\n",
       "      <th>2</th>\n",
       "      <td>Issah Abbas</td>\n",
       "      <td>gh</td>\n",
       "      <td>DF,FW</td>\n",
       "      <td>Mainz 05</td>\n",
       "      <td>Bundesliga</td>\n",
       "      <td>22-210</td>\n",
       "      <td>1998</td>\n",
       "      <td>2</td>\n",
       "      <td>0</td>\n",
       "      <td>18</td>\n",
       "      <td>...</td>\n",
       "      <td>0.00</td>\n",
       "      <td>0.0</td>\n",
       "      <td>0.0</td>\n",
       "      <td>0.0</td>\n",
       "      <td>0.0</td>\n",
       "      <td>0.00</td>\n",
       "      <td>0.00</td>\n",
       "      <td>0.00</td>\n",
       "      <td>0.00</td>\n",
       "      <td>0.00</td>\n",
       "    </tr>\n",
       "    <tr>\n",
       "      <th>3</th>\n",
       "      <td>Yunis Abdelhamid</td>\n",
       "      <td>ma</td>\n",
       "      <td>DF</td>\n",
       "      <td>Reims</td>\n",
       "      <td>Ligue 1</td>\n",
       "      <td>33-208</td>\n",
       "      <td>1987</td>\n",
       "      <td>30</td>\n",
       "      <td>30</td>\n",
       "      <td>2,700</td>\n",
       "      <td>...</td>\n",
       "      <td>0.10</td>\n",
       "      <td>1.6</td>\n",
       "      <td>1.6</td>\n",
       "      <td>0.2</td>\n",
       "      <td>1.8</td>\n",
       "      <td>0.05</td>\n",
       "      <td>0.01</td>\n",
       "      <td>0.06</td>\n",
       "      <td>0.05</td>\n",
       "      <td>0.06</td>\n",
       "    </tr>\n",
       "    <tr>\n",
       "      <th>4</th>\n",
       "      <td>Sabit Abdulai</td>\n",
       "      <td>gh</td>\n",
       "      <td>MF</td>\n",
       "      <td>Getafe</td>\n",
       "      <td>La Liga</td>\n",
       "      <td>21-348</td>\n",
       "      <td>1999</td>\n",
       "      <td>2</td>\n",
       "      <td>0</td>\n",
       "      <td>51</td>\n",
       "      <td>...</td>\n",
       "      <td>0.00</td>\n",
       "      <td>0.0</td>\n",
       "      <td>0.0</td>\n",
       "      <td>0.0</td>\n",
       "      <td>0.0</td>\n",
       "      <td>0.00</td>\n",
       "      <td>0.00</td>\n",
       "      <td>0.00</td>\n",
       "      <td>0.00</td>\n",
       "      <td>0.00</td>\n",
       "    </tr>\n",
       "    <tr>\n",
       "      <th>...</th>\n",
       "      <td>...</td>\n",
       "      <td>...</td>\n",
       "      <td>...</td>\n",
       "      <td>...</td>\n",
       "      <td>...</td>\n",
       "      <td>...</td>\n",
       "      <td>...</td>\n",
       "      <td>...</td>\n",
       "      <td>...</td>\n",
       "      <td>...</td>\n",
       "      <td>...</td>\n",
       "      <td>...</td>\n",
       "      <td>...</td>\n",
       "      <td>...</td>\n",
       "      <td>...</td>\n",
       "      <td>...</td>\n",
       "      <td>...</td>\n",
       "      <td>...</td>\n",
       "      <td>...</td>\n",
       "      <td>...</td>\n",
       "      <td>...</td>\n",
       "    </tr>\n",
       "    <tr>\n",
       "      <th>2718</th>\n",
       "      <td>Steven Zuber</td>\n",
       "      <td>ch</td>\n",
       "      <td>DF</td>\n",
       "      <td>Eint Frankfurt</td>\n",
       "      <td>Bundesliga</td>\n",
       "      <td>29-250</td>\n",
       "      <td>1991</td>\n",
       "      <td>16</td>\n",
       "      <td>5</td>\n",
       "      <td>489</td>\n",
       "      <td>...</td>\n",
       "      <td>0.37</td>\n",
       "      <td>0.3</td>\n",
       "      <td>0.3</td>\n",
       "      <td>1.1</td>\n",
       "      <td>1.4</td>\n",
       "      <td>0.06</td>\n",
       "      <td>0.19</td>\n",
       "      <td>0.25</td>\n",
       "      <td>0.06</td>\n",
       "      <td>0.25</td>\n",
       "    </tr>\n",
       "    <tr>\n",
       "      <th>2719</th>\n",
       "      <td>Martín Zubimendi</td>\n",
       "      <td>es</td>\n",
       "      <td>MF</td>\n",
       "      <td>Real Sociedad</td>\n",
       "      <td>La Liga</td>\n",
       "      <td>22-081</td>\n",
       "      <td>1999</td>\n",
       "      <td>25</td>\n",
       "      <td>13</td>\n",
       "      <td>1,397</td>\n",
       "      <td>...</td>\n",
       "      <td>0.00</td>\n",
       "      <td>0.6</td>\n",
       "      <td>0.6</td>\n",
       "      <td>0.2</td>\n",
       "      <td>0.8</td>\n",
       "      <td>0.04</td>\n",
       "      <td>0.01</td>\n",
       "      <td>0.05</td>\n",
       "      <td>0.04</td>\n",
       "      <td>0.05</td>\n",
       "    </tr>\n",
       "    <tr>\n",
       "      <th>2720</th>\n",
       "      <td>Martin Ødegaard</td>\n",
       "      <td>no</td>\n",
       "      <td>MF</td>\n",
       "      <td>Arsenal</td>\n",
       "      <td>Premier League</td>\n",
       "      <td>22-128</td>\n",
       "      <td>1998</td>\n",
       "      <td>10</td>\n",
       "      <td>6</td>\n",
       "      <td>581</td>\n",
       "      <td>...</td>\n",
       "      <td>0.15</td>\n",
       "      <td>0.8</td>\n",
       "      <td>0.8</td>\n",
       "      <td>0.8</td>\n",
       "      <td>1.6</td>\n",
       "      <td>0.12</td>\n",
       "      <td>0.12</td>\n",
       "      <td>0.25</td>\n",
       "      <td>0.12</td>\n",
       "      <td>0.25</td>\n",
       "    </tr>\n",
       "    <tr>\n",
       "      <th>2721</th>\n",
       "      <td>Martin Ødegaard</td>\n",
       "      <td>no</td>\n",
       "      <td>MF,FW</td>\n",
       "      <td>Real Madrid</td>\n",
       "      <td>La Liga</td>\n",
       "      <td>22-128</td>\n",
       "      <td>1998</td>\n",
       "      <td>7</td>\n",
       "      <td>3</td>\n",
       "      <td>234</td>\n",
       "      <td>...</td>\n",
       "      <td>0.00</td>\n",
       "      <td>0.1</td>\n",
       "      <td>0.1</td>\n",
       "      <td>0.4</td>\n",
       "      <td>0.5</td>\n",
       "      <td>0.04</td>\n",
       "      <td>0.15</td>\n",
       "      <td>0.19</td>\n",
       "      <td>0.04</td>\n",
       "      <td>0.19</td>\n",
       "    </tr>\n",
       "    <tr>\n",
       "      <th>2722</th>\n",
       "      <td>Filip Đuričić</td>\n",
       "      <td>rs</td>\n",
       "      <td>MF,FW</td>\n",
       "      <td>Sassuolo</td>\n",
       "      <td>Serie A</td>\n",
       "      <td>29-084</td>\n",
       "      <td>1992</td>\n",
       "      <td>28</td>\n",
       "      <td>25</td>\n",
       "      <td>1,918</td>\n",
       "      <td>...</td>\n",
       "      <td>0.38</td>\n",
       "      <td>5.7</td>\n",
       "      <td>4.9</td>\n",
       "      <td>6.0</td>\n",
       "      <td>10.9</td>\n",
       "      <td>0.27</td>\n",
       "      <td>0.28</td>\n",
       "      <td>0.55</td>\n",
       "      <td>0.23</td>\n",
       "      <td>0.51</td>\n",
       "    </tr>\n",
       "  </tbody>\n",
       "</table>\n",
       "<p>2723 rows × 32 columns</p>\n",
       "</div>"
      ],
      "text/plain": [
       "                     Name Nation    Pos           Squad          League  \\\n",
       "0           Ismael Aaneba     fr  FW,DF      Strasbourg         Ligue 1   \n",
       "1     Patrick van Aanholt     nl     DF  Crystal Palace  Premier League   \n",
       "2             Issah Abbas     gh  DF,FW        Mainz 05      Bundesliga   \n",
       "3        Yunis Abdelhamid     ma     DF           Reims         Ligue 1   \n",
       "4           Sabit Abdulai     gh     MF          Getafe         La Liga   \n",
       "...                   ...    ...    ...             ...             ...   \n",
       "2718         Steven Zuber     ch     DF  Eint Frankfurt      Bundesliga   \n",
       "2719     Martín Zubimendi     es     MF   Real Sociedad         La Liga   \n",
       "2720      Martin Ødegaard     no     MF         Arsenal  Premier League   \n",
       "2721      Martin Ødegaard     no  MF,FW     Real Madrid         La Liga   \n",
       "2722        Filip Đuričić     rs  MF,FW        Sassuolo         Serie A   \n",
       "\n",
       "         Age  Born Matches Played Starts Mins-Played  ... G+A-PK90   xG   xA  \\\n",
       "0     21-330  1999              2      0          11  ...     0.00  0.0  0.0   \n",
       "1     30-238  1990             20     19       1,684  ...     0.05  1.2  1.2   \n",
       "2     22-210  1998              2      0          18  ...     0.00  0.0  0.0   \n",
       "3     33-208  1987             30     30       2,700  ...     0.10  1.6  1.6   \n",
       "4     21-348  1999              2      0          51  ...     0.00  0.0  0.0   \n",
       "...      ...   ...            ...    ...         ...  ...      ...  ...  ...   \n",
       "2718  29-250  1991             16      5         489  ...     0.37  0.3  0.3   \n",
       "2719  22-081  1999             25     13       1,397  ...     0.00  0.6  0.6   \n",
       "2720  22-128  1998             10      6         581  ...     0.15  0.8  0.8   \n",
       "2721  22-128  1998              7      3         234  ...     0.00  0.1  0.1   \n",
       "2722  29-084  1992             28     25       1,918  ...     0.38  5.7  4.9   \n",
       "\n",
       "     xG+xA npxG+xA  xG90  xA90 xG+xA90 npxG90 npxG+xA90  \n",
       "0      0.0     0.0  0.00  0.00    0.00   0.00      0.00  \n",
       "1      0.8     2.0  0.07  0.04    0.11   0.07      0.11  \n",
       "2      0.0     0.0  0.00  0.00    0.00   0.00      0.00  \n",
       "3      0.2     1.8  0.05  0.01    0.06   0.05      0.06  \n",
       "4      0.0     0.0  0.00  0.00    0.00   0.00      0.00  \n",
       "...    ...     ...   ...   ...     ...    ...       ...  \n",
       "2718   1.1     1.4  0.06  0.19    0.25   0.06      0.25  \n",
       "2719   0.2     0.8  0.04  0.01    0.05   0.04      0.05  \n",
       "2720   0.8     1.6  0.12  0.12    0.25   0.12      0.25  \n",
       "2721   0.4     0.5  0.04  0.15    0.19   0.04      0.19  \n",
       "2722   6.0    10.9  0.27  0.28    0.55   0.23      0.51  \n",
       "\n",
       "[2723 rows x 32 columns]"
      ]
     },
     "execution_count": 5,
     "metadata": {},
     "output_type": "execute_result"
    }
   ],
   "source": [
    "df"
   ]
  },
  {
   "cell_type": "markdown",
   "metadata": {},
   "source": [
    "From the website we can group the 'Pos' codes into 4 primary groups: Goalkeepers, Defenders, Midfielders, and Attackers."
   ]
  },
  {
   "cell_type": "code",
   "execution_count": 48,
   "metadata": {},
   "outputs": [],
   "source": [
    "Goalkeepers = 'GK'\n",
    "Defenders = 'DF|LB|RB|CB|FB'\n",
    "Midfielders = 'MF|DM|CM|LM|RM|AM|WM'\n",
    "Forwards = 'FW|LW|RW'"
   ]
  },
  {
   "cell_type": "markdown",
   "metadata": {},
   "source": [
    "We will want to keep players who havent played enough games out of our analysis, as small sample sizes will be more affected by outliers, so lets look at what the average amount of matches played is."
   ]
  },
  {
   "cell_type": "code",
   "execution_count": 22,
   "metadata": {},
   "outputs": [
    {
     "name": "stdout",
     "output_type": "stream",
     "text": [
      "AVG matches played: 17.030481087036357\n",
      "Median Matches Played: 19.0\n"
     ]
    }
   ],
   "source": [
    "print(\"AVG matches played: {}\\nMedian Matches Played: {}\".format(np.asarray(df[\"Matches Played\"], dtype=np.float).mean(),np.median(np.asarray(df[\"Matches Played\"], dtype=np.float))))"
   ]
  },
  {
   "cell_type": "markdown",
   "metadata": {},
   "source": [
    "Lets plot the amount of matches played to get a better idea of what the distribution looks like"
   ]
  },
  {
   "cell_type": "code",
   "execution_count": 54,
   "metadata": {},
   "outputs": [
    {
     "data": {
      "text/plain": [
       "<AxesSubplot:xlabel='Matches Played', ylabel='Count'>"
      ]
     },
     "execution_count": 54,
     "metadata": {},
     "output_type": "execute_result"
    },
    {
     "data": {
      "image/png": "[encoded data removed]",
      "text/plain": [
       "<Figure size 432x288 with 1 Axes>"
      ]
     },
     "metadata": {
      "needs_background": "light"
     },
     "output_type": "display_data"
    }
   ],
   "source": [
    "from matplotlib import pyplot as plt\n",
    "import seaborn\n",
    "seaborn.histplot(df['Matches Played'].astype('int32'),binwidth=5)"
   ]
  },
  {
   "cell_type": "markdown",
   "metadata": {},
   "source": [
    "Looking at the distribution plotted by a histogram, we can see that there is a huge peak of players who only played 1-5 games throughout the season so far. These are pulling the average downwards, and we would like to look at those who are playing more often to get a true idea of the stats for players that are actively playing in Europes top 5 leagues."
   ]
  },
  {
   "cell_type": "code",
   "execution_count": 38,
   "metadata": {},
   "outputs": [
    {
     "data": {
      "text/plain": [
       "<AxesSubplot:xlabel='Matches Played', ylabel='Count'>"
      ]
     },
     "execution_count": 38,
     "metadata": {},
     "output_type": "execute_result"
    },
    {
     "data": {
      "image/png": "[encoded data removed]",
      "text/plain": [
       "<Figure size 432x288 with 1 Axes>"
      ]
     },
     "metadata": {
      "needs_background": "light"
     },
     "output_type": "display_data"
    }
   ],
   "source": [
    "activedf = df.loc[df['Matches Played'].astype('int32') >= 19]\n",
    "seaborn.histplot(activedf['Matches Played'].astype('int32'),binwidth=1)"
   ]
  },
  {
   "cell_type": "markdown",
   "metadata": {},
   "source": [
    "By trimming the dataset to only include players that are playing over 19 (the median) games thus far in the season, our analysis will prove to be more representative of the actual play that is going on in the leauges. However, it still should be mentioned that even 19 games is not a very large sample size, and ideally we would want to be looking at players on the higher range of games but the amount of players who have played upwards of say 25 or 30 matches is relatively small compared to the amount we have over the median. \n",
    "\n",
    "Now that we have a somewhat representative dataset we can start exploring trends and see what we can find. For example, I would like to know what the different average ages are for different positions. Let's start by dividing the dataset into our 4 different groups of positions, because we will most likely be comparing them more in the future.\n",
    "\n",
    "While we are at it, we can also divide the dataframes into League Specific groups much in the same way, to be used in the future as well."
   ]
  },
  {
   "cell_type": "code",
   "execution_count": 51,
   "metadata": {},
   "outputs": [],
   "source": [
    "dfGoalKeeper = activedf.loc[df['Pos'].str.contains(Goalkeepers)]\n",
    "dfDefender = activedf.loc[df['Pos'].str.contains(Defenders)]\n",
    "dfMidfielder = activedf.loc[df['Pos'].str.contains(Midfielders)]\n",
    "dfForward = activedf.loc[df['Pos'].str.contains(Forwards)]\n",
    "\n",
    "laLiga = activedf.loc[df['League'].str.contains('La Liga')]\n",
    "ligue1 = activedf.loc[df['League'].str.contains('Ligue 1')]\n",
    "bundesliga = activedf.loc[df['League'].str.contains('Bundesliga')]\n",
    "premLeague = activedf.loc[df['League'].str.contains('Premier League')]\n",
    "serieA = activedf.loc[df['League'].str.contains('Serie A')]"
   ]
  },
  {
   "cell_type": "markdown",
   "metadata": {},
   "source": [
    "One of the things that we can look at is Age. If you are a fan of soccer, you might know that some leagues are considered slower and more playable for older players, and some positions are occupied by younger players. We can investigate these stereotypes with this data. \n",
    "\n",
    "Lets plot the distribution of ages for different positions, then we can do the same for the leagues. "
   ]
  },
  {
   "cell_type": "code",
   "execution_count": 81,
   "metadata": {},
   "outputs": [
    {
     "data": {
      "image/png": "[encoded data removed]",
      "text/plain": [
       "<Figure size 864x720 with 4 Axes>"
      ]
     },
     "metadata": {
      "needs_background": "light"
     },
     "output_type": "display_data"
    }
   ],
   "source": [
    "fig, ax = plt.subplots(2,2,figsize=(12,10))\n",
    "\n",
    "fig.suptitle('Age Distributions of Different Positions')\n",
    "\n",
    "ax1 = plt.subplot(2,2,1)\n",
    "seaborn.histplot(dfGoalKeeper['Age'].str[0:2].astype('int32'),binwidth=1)\n",
    "ax1.title.set_text('GoalKeeper\\nmu = {} sd={}'.format(round(dfGoalKeeper['Age'].str[0:2].astype('int32').mean(),3), round(dfGoalKeeper['Age'].str[0:2].astype('int32').std(),3)))\n",
    "\n",
    "ax2= plt.subplot(2,2,2)\n",
    "seaborn.histplot(dfDefender['Age'].str[0:2].astype('int32'),binwidth=1)\n",
    "ax2.title.set_text('Defender\\nmu = {} sd={}'.format(round(dfDefender['Age'].str[0:2].astype('int32').mean(),3), round(dfDefender['Age'].str[0:2].astype('int32').std(),3)))\n",
    "\n",
    "ax3= plt.subplot(2,2,3)\n",
    "seaborn.histplot(dfMidfielder['Age'].str[0:2].astype('int32'),binwidth=1)\n",
    "ax3.title.set_text('Midfielder\\nmu = {} sd={}'.format(round(dfMidfielder['Age'].str[0:2].astype('int32').mean(),3), round(dfMidfielder['Age'].str[0:2].astype('int32').std(),3)))\n",
    "\n",
    "ax4 = plt.subplot(2,2,4)\n",
    "seaborn.histplot(dfForward['Age'].str[0:2].astype('int32'),binwidth=1)\n",
    "ax4.title.set_text('Forward\\nmu = {} sd={}'.format(round(dfForward['Age'].str[0:2].astype('int32').mean(),3), round(dfForward['Age'].str[0:2].astype('int32').std(),3)))\n",
    "\n",
    "\n",
    "fig.tight_layout()"
   ]
  },
  {
   "cell_type": "code",
   "execution_count": 87,
   "metadata": {},
   "outputs": [
    {
     "data": {
      "image/png": "[encoded data removed]",
      "text/plain": [
       "<Figure size 864x1080 with 6 Axes>"
      ]
     },
     "metadata": {
      "needs_background": "light"
     },
     "output_type": "display_data"
    }
   ],
   "source": [
    "fig, ax = plt.subplots(3,2,figsize=(12,15))\n",
    "\n",
    "fig.suptitle('Age Distributions of Different Positions')\n",
    "\n",
    "ax1 = plt.subplot(3,2,1)\n",
    "seaborn.histplot(laLiga['Age'].str[0:2].astype('int32'),binwidth=1)\n",
    "ax1.title.set_text('La Liga\\nmu = {} sd={}'.format(round(laLiga['Age'].str[0:2].astype('int32').mean(),3), round(laLiga['Age'].str[0:2].astype('int32').std(),3)))\n",
    "\n",
    "ax2= plt.subplot(3,2,2)\n",
    "seaborn.histplot(ligue1['Age'].str[0:2].astype('int32'),binwidth=1)\n",
    "ax2.title.set_text('Ligue 1\\nmu = {} sd={}'.format(round(ligue1['Age'].str[0:2].astype('int32').mean(),3), round(ligue1['Age'].str[0:2].astype('int32').std(),3)))\n",
    "\n",
    "ax3= plt.subplot(3,2,3)\n",
    "seaborn.histplot(bundesliga['Age'].str[0:2].astype('int32'),binwidth=1)\n",
    "ax3.title.set_text('Bundesliga\\nmu = {} sd={}'.format(round(bundesliga['Age'].str[0:2].astype('int32').mean(),3), round(bundesliga['Age'].str[0:2].astype('int32').std(),3)))\n",
    "\n",
    "ax4 = plt.subplot(3,2,4)\n",
    "seaborn.histplot(premLeague['Age'].str[0:2].astype('int32'),binwidth=1)\n",
    "ax4.title.set_text('Premier League\\nmu = {} sd={}'.format(round(premLeague['Age'].str[0:2].astype('int32').mean(),3), round(premLeague['Age'].str[0:2].astype('int32').std(),3)))\n",
    "\n",
    "ax5 = plt.subplot(3,2,5)\n",
    "seaborn.histplot(serieA['Age'].str[0:2].astype('int32'),binwidth=1)\n",
    "ax5.title.set_text('Serie A\\nmu = {} sd={}'.format(round(serieA['Age'].str[0:2].astype('int32').mean(),3), round(serieA['Age'].str[0:2].astype('int32').std(),3)))\n",
    "\n",
    "\n",
    "fig.tight_layout()"
   ]
  },
  {
   "cell_type": "markdown",
   "metadata": {},
   "source": [
    "Looking at these graphs we can begin to investigate some of the common Age-related stereotypes.\n",
    "1. SerieA is for old players\n",
    "2. Forwards are more often younger players/ Goalkeepers are older.\n"
   ]
  },
  {
   "cell_type": "markdown",
   "metadata": {},
   "source": [
    "### Serie A is Older\n",
    "1. We can see that Serie A has the second highest average age out of the top 5 leagues, although it is beaten out by La Liga for the highest average age. So we can see that the idea that Serie A is the oldest league is incorrect, but we can go further than that, and see if age difference between the Serie A and Bundesliga (the youngest league) is statistically significant. "
   ]
  },
  {
   "cell_type": "code",
   "execution_count": 102,
   "metadata": {},
   "outputs": [
    {
     "name": "stdout",
     "output_type": "stream",
     "text": [
      "Bundesliga: 0.0001239838219698646\n",
      "La Liga: 0.512821269807462\n",
      "Ligue 1: 0.00023746119891128293\n",
      "Premier League: 0.05836178421368518\n",
      "\n"
     ]
    }
   ],
   "source": [
    "from scipy import stats\n",
    "bundesT = stats.ttest_ind(serieA['Age'].str[0:2].astype('int32'),bundesliga['Age'].str[0:2].astype('int32'))[1]\n",
    "laLigaT = stats.ttest_ind(serieA['Age'].str[0:2].astype('int32'),laLiga['Age'].str[0:2].astype('int32'))[1]\n",
    "LigueT = stats.ttest_ind(serieA['Age'].str[0:2].astype('int32'),ligue1['Age'].str[0:2].astype('int32'))[1]\n",
    "premT = stats.ttest_ind(serieA['Age'].str[0:2].astype('int32'),premLeague['Age'].str[0:2].astype('int32'))[1]\n",
    "print(\"Bundesliga: {}\\nLa Liga: {}\\nLigue 1: {}\\nPremier League: {}\\n\".format(bundesT,laLigaT,LigueT,premT))"
   ]
  },
  {
   "cell_type": "markdown",
   "metadata": {},
   "source": [
    "Using an alpha of .05, we can compare our p-values listed above to see where the age in the Serie A is statistically significantly different. From doing this we can see that the age is Serie A is statistically significantly different from the ages in the Bundesliga and Ligue 1, our two youngest leagues. \n",
    "\n",
    "These findings do suggest that Serie A is inhabited more so by older players than the other leagues mentioned above, and gives some credability to stereotype #1. "
   ]
  },
  {
   "cell_type": "markdown",
   "metadata": {},
   "source": [
    "### Forwards are Younger\n",
    "2. Looking at the age distributions of the different positions, it is quite clear to see that outfield positions further up the field tend to be younger, while Goalkeepers and defenders tend to be older. Just to be sure though we will once more use Student's T-Test with an alpha of .05 to compare Forwards Ages to the other positions."
   ]
  },
  {
   "cell_type": "code",
   "execution_count": 107,
   "metadata": {},
   "outputs": [
    {
     "name": "stdout",
     "output_type": "stream",
     "text": [
      "Midfielders: 0.8136599631167705\n",
      "Defenders: 0.004483457892797526\n",
      "GoalKeepers: 2.765548890289379e-08\n",
      "\n"
     ]
    }
   ],
   "source": [
    "midT = stats.ttest_ind(dfForward['Age'].str[0:2].astype('int32'),dfMidfielder['Age'].str[0:2].astype('int32'))[1]\n",
    "defT = stats.ttest_ind(dfForward['Age'].str[0:2].astype('int32'),dfDefender['Age'].str[0:2].astype('int32'))[1]\n",
    "gkT = stats.ttest_ind(dfForward['Age'].str[0:2].astype('int32'),dfGoalKeeper['Age'].str[0:2].astype('int32'))[1]\n",
    "print(\"Midfielders: {}\\nDefenders: {}\\nGoalKeepers: {}\\n\".format(midT,defT,gkT))"
   ]
  },
  {
   "cell_type": "markdown",
   "metadata": {},
   "source": [
    "Looking at the p-values generated from the t-test, we can see that the distribution of forward ages is statistically significantly different from both defenders and goalkeepers, with goalkeepers being very significantly different. "
   ]
  },
  {
   "cell_type": "markdown",
   "metadata": {},
   "source": [
    "## Investigating Goals Scored\n",
    "You could continue looking into the dataset as much as you would like and find a number of things, but with nothing specific to look for you will have trouble finding interesting data. As much as a lot of people enjoy watching soccer, the main thing that drives people to the sport is the goals, so lets see who the most consistent scorers are in Europe. \n",
    "\n",
    "xG is the expected Goals of a player, or the number of goals on average a person would score being in the position that the player had a shooting chance in. This is a measure of a players ability to get into good positions and create chances. While the Goals column simply represents the number of goals scored."
   ]
  },
  {
   "cell_type": "code",
   "execution_count": 179,
   "metadata": {},
   "outputs": [
    {
     "data": {
      "image/png": "[encoded data removed]",
      "text/plain": [
       "<Figure size 720x720 with 1 Axes>"
      ]
     },
     "metadata": {
      "needs_background": "light"
     },
     "output_type": "display_data"
    }
   ],
   "source": [
    "topScorers = dfForward.loc[dfForward['Goals'].astype('int32') >= 10] # get players with 10 or more goals (top scorers)\n",
    "plt.scatter(topScorers['Goals'].astype('int32'),topScorers['xG'].astype('float'))\n",
    "plt.rcParams[\"figure.figsize\"] = (10,10)\n",
    "\n",
    "plt.plot([8,40],[8,40], 'r')\n",
    "plt.title(\"Shooting Performance of Top Goal Scorers in Europe\\n G vs xG\")\n",
    "plt.xlabel(\"Goals Scored\")\n",
    "plt.ylabel(\"Expected Goals\")\n",
    "\n",
    "plt.text( 35, 10, \"Good Finishing\", ha=\"center\", va=\"center\", rotation=0, size=15,bbox=dict(boxstyle=\"Square,pad=0.3\", fc=\"white\", ec=\"black\", lw=2))\n",
    "plt.text( 15, 35, \"Poor Finishing\", ha=\"center\", va=\"center\", rotation=0, size=15,bbox=dict(boxstyle=\"Square,pad=0.3\", fc=\"white\", ec=\"black\", lw=2))\n",
    "\n",
    "plt.annotate('Lewandowski', xy=(35, 24.5),  xycoords='data',\n",
    "            xytext=(40, 28), textcoords='data',\n",
    "            arrowprops=dict(facecolor='black', shrink=.05),\n",
    "            horizontalalignment='right', verticalalignment='top',\n",
    "            )\n",
    "plt.tight_layout()"
   ]
  },
  {
   "cell_type": "code",
   "execution_count": 147,
   "metadata": {},
   "outputs": [
    {
     "data": {
      "text/html": [
       "<div>\n",
       "<style scoped>\n",
       "    .dataframe tbody tr th:only-of-type {\n",
       "        vertical-align: middle;\n",
       "    }\n",
       "\n",
       "    .dataframe tbody tr th {\n",
       "        vertical-align: top;\n",
       "    }\n",
       "\n",
       "    .dataframe thead th {\n",
       "        text-align: right;\n",
       "    }\n",
       "</style>\n",
       "<table border=\"1\" class=\"dataframe\">\n",
       "  <thead>\n",
       "    <tr style=\"text-align: right;\">\n",
       "      <th></th>\n",
       "      <th>Name</th>\n",
       "      <th>Goals</th>\n",
       "      <th>xG</th>\n",
       "    </tr>\n",
       "  </thead>\n",
       "  <tbody>\n",
       "    <tr>\n",
       "      <th>52</th>\n",
       "      <td>Lucas Alario</td>\n",
       "      <td>10</td>\n",
       "      <td>6.2</td>\n",
       "    </tr>\n",
       "    <tr>\n",
       "      <th>2659</th>\n",
       "      <td>Callum Wilson</td>\n",
       "      <td>10</td>\n",
       "      <td>9.6</td>\n",
       "    </tr>\n",
       "    <tr>\n",
       "      <th>2678</th>\n",
       "      <td>Burak Yılmaz</td>\n",
       "      <td>10</td>\n",
       "      <td>7.7</td>\n",
       "    </tr>\n",
       "    <tr>\n",
       "      <th>1465</th>\n",
       "      <td>José Luis Morales</td>\n",
       "      <td>10</td>\n",
       "      <td>7.2</td>\n",
       "    </tr>\n",
       "    <tr>\n",
       "      <th>1147</th>\n",
       "      <td>Danny Ings</td>\n",
       "      <td>10</td>\n",
       "      <td>7.3</td>\n",
       "    </tr>\n",
       "    <tr>\n",
       "      <th>...</th>\n",
       "      <td>...</td>\n",
       "      <td>...</td>\n",
       "      <td>...</td>\n",
       "    </tr>\n",
       "    <tr>\n",
       "      <th>1614</th>\n",
       "      <td>Kylian Mbappé</td>\n",
       "      <td>23</td>\n",
       "      <td>20.2</td>\n",
       "    </tr>\n",
       "    <tr>\n",
       "      <th>2331</th>\n",
       "      <td>André Silva</td>\n",
       "      <td>24</td>\n",
       "      <td>20.4</td>\n",
       "    </tr>\n",
       "    <tr>\n",
       "      <th>2181</th>\n",
       "      <td>Cristiano Ronaldo</td>\n",
       "      <td>25</td>\n",
       "      <td>23.2</td>\n",
       "    </tr>\n",
       "    <tr>\n",
       "      <th>1661</th>\n",
       "      <td>Lionel Messi</td>\n",
       "      <td>25</td>\n",
       "      <td>20.0</td>\n",
       "    </tr>\n",
       "    <tr>\n",
       "      <th>1406</th>\n",
       "      <td>Robert Lewandowski</td>\n",
       "      <td>35</td>\n",
       "      <td>24.2</td>\n",
       "    </tr>\n",
       "  </tbody>\n",
       "</table>\n",
       "<p>63 rows × 3 columns</p>\n",
       "</div>"
      ],
      "text/plain": [
       "                    Name Goals    xG\n",
       "52          Lucas Alario    10   6.2\n",
       "2659       Callum Wilson    10   9.6\n",
       "2678        Burak Yılmaz    10   7.7\n",
       "1465   José Luis Morales    10   7.2\n",
       "1147          Danny Ings    10   7.3\n",
       "...                  ...   ...   ...\n",
       "1614       Kylian Mbappé    23  20.2\n",
       "2331         André Silva    24  20.4\n",
       "2181   Cristiano Ronaldo    25  23.2\n",
       "1661        Lionel Messi    25  20.0\n",
       "1406  Robert Lewandowski    35  24.2\n",
       "\n",
       "[63 rows x 3 columns]"
      ]
     },
     "execution_count": 147,
     "metadata": {},
     "output_type": "execute_result"
    }
   ],
   "source": [
    "topScorers[['Name','Goals','xG']].sort_values(by=['Goals'])"
   ]
  },
  {
   "cell_type": "markdown",
   "metadata": {},
   "source": [
    "By looking at the data above and connecting it to the plot, we get a general idea of who some of the big names in football are. Chances are you'll have heard of most of the players with the most goals. From our graph it is apparent that the more shots a person is taking, for the most part, the more goals they will be scoring, and most of the top scorers of Europe are consistently outperforming their xG, which makes sense considering they are the best players so we might expect them to outperform the expectations of an average player in those shooting positions."
   ]
  },
  {
   "cell_type": "markdown",
   "metadata": {},
   "source": [
    "# Conclusion\n",
    "In this project we started by scraping data off the web and cleaned it to perform some analysis. We walked through various paths one could take with the data, and used a combination of visualizations and statistical tests to make some base level conclusions. From here we could continue with this data and look more in depth at the most promising young players, the best players in terms of both scoring goals and assisting, or differences between playstyles in leagues. All of these tasks would be easy to due with the ground work laid out above, and could prove to be interesting. \n",
    "\n",
    "Potential confounds could be found in comparing against leagues, so another interesting avenue would be to compare the average xG of one league versus another, and introduce a weighted xG and Goals scored to more adequetly compare the scoring numbers of players across leagues. \n",
    "\n",
    "Disclaimer: This data was collected on 4/24/21, so results will change throughout the season which could effect the analysis."
   ]
  }
 ],
 "metadata": {
  "kernelspec": {
   "display_name": "Python 3",
   "language": "python",
   "name": "python3"
  },
  "language_info": {
   "codemirror_mode": {
    "name": "ipython",
    "version": 3
   },
   "file_extension": ".py",
   "mimetype": "text/x-python",
   "name": "python",
   "nbconvert_exporter": "python",
   "pygments_lexer": "ipython3",
   "version": "3.8.5"
  }
 },
 "nbformat": 4,
 "nbformat_minor": 4
}
